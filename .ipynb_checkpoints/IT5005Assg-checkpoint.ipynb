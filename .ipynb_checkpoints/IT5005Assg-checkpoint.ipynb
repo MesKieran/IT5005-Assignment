{
 "cells": [
  {
   "cell_type": "markdown",
   "metadata": {},
   "source": [
    "# IT5005 Artificial Intelligence Term Assignment\n",
    "\n",
    "Fill your name and student number below:\n",
    "\n",
    "\n",
    "| Student Number: | Name:                   |\n",
    "|:----------------|:------------------------|\n",
    "| A0286970M      | Wu Xiangjiekang           |\n",
    "\n",
    "\n",
    "\n",
    "\n",
    "## 1. Introduction\n",
    "\n",
    "In this assignment we hope to achieve the following:\n",
    "\n",
    "    1. An understanding of the practical limitations of using dense networks in complex tasks\n",
    "    2. Hands-on experience in building a deep learning neural network to solve a relatively complex task.\n",
    "    \n",
    "As this lab is more challenging than the tutorial, you can choose to work in teams of 2.\n",
    "\n",
    "Each step may take a long time to run. You and your partner may want to work out how to do things simultaneously, but please do not miss out on any learning opportunities.\n",
    "\n",
    "\n",
    "## 2. Submission Instructions\n",
    "\n",
    "\n",
    "### 2.1 SUBMISSION INSTRUCTIONS\n",
    "\n",
    "#### If you are working with a partner only ONE submission is required. However please ensure that both names are shown above. Otherwise one person will not get any marks.\n",
    "\n",
    "Please rename this Jupyter notebook to your student ID (e.g. A1234567Y.ipynb), complete it and submit to Canvas by 12 pm, Sunday 21 April 2024.\n",
    "\n",
    "The folder will close shortly after 12 pm on 21 April, after which you will no longer be able to submit your assignment and you will get 0.\n",
    "\n",
    "\n",
    "## 3. Creating a Dense Network for CIFAR-10\n",
    "\n",
    "We will now begin building a neural network for the CIFAR-10 dataset. The CIFAR-10 dataset consists of 50,000 32x32x3 (32x32 pixels, RGB channels) training images and 10,000 testing images (also 32x32x3), divided into the following 10 categories:\n",
    "\n",
    "    1. Airplane\n",
    "    2. Automobile\n",
    "    3. Bird\n",
    "    4. Cat\n",
    "    5. Deer\n",
    "    6. Dog\n",
    "    7. Frog\n",
    "    8. Horse\n",
    "    9. Ship\n",
    "    10. Truck\n",
    "    \n",
    "In the first two parts of this lab we will create a classifier for the CIFAR-10 dataset.\n",
    "\n",
    "### 3.1 Loading the Dataset\n",
    "\n",
    "We begin firstly by creating a Dense neural network for CIFAR-10. The code below shows how we load the CIFAR-10 dataset:\n"
   ]
  },
  {
   "cell_type": "code",
   "execution_count": 1,
   "metadata": {},
   "outputs": [],
   "source": [
    "from tensorflow.keras.utils import to_categorical\n",
    "from tensorflow.keras.datasets import cifar10\n",
    "\n",
    "def load_cifar10():\n",
    "    (train_x, train_y), (test_x, test_y) = cifar10.load_data()\n",
    "    train_x = train_x.reshape(train_x.shape[0], 3072) # Question 1\n",
    "    test_x = test_x.reshape(test_x.shape[0], 3072) # Question 1\n",
    "    train_x = train_x.astype('float32')\n",
    "    test_x = test_x.astype('float32')\n",
    "    train_x /= 255.0\n",
    "    test_x /= 255.0\n",
    "    ret_train_y = to_categorical(train_y,10)\n",
    "    ret_test_y = to_categorical(test_y, 10)\n",
    "    \n",
    "    return (train_x, ret_train_y), (test_x, ret_test_y)\n",
    "\n",
    "\n",
    "(train_x, train_y), (test_x, test_y) = load_cifar10()"
   ]
  },
  {
   "cell_type": "markdown",
   "metadata": {},
   "source": [
    "----\n",
    "\n",
    "#### Question 1\n",
    "\n",
    "Explain what the following two  statements do, and where the number \"3072\" came from (2 MARKS):\n",
    "\n",
    "```\n",
    "  train_x = train_x.reshape(train_x.shape[0], 3072) # Question 1\n",
    "  test_x = test_x.reshape(test_x.shape[0], 3072) # Question 1\n",
    "```\n",
    "\n",
    "***ANSWER: The number \"3072\" comes from the dimensions of the images in the CIFAR-10 dataset, each dimension is multiplied: 32 pixels (width) x 32 pixels (height) x 3 color channels = 3072.**\n",
    "\n",
    "*FOR GRADER: _______ / 2*\n",
    "\n",
    "### 3.2 Building the MLP Classifier\n",
    "\n",
    "In the code box below, create a new fully connected (dense) multilayer perceptron classifier for the CIFAR-10 dataset. To begin with, create a network with one hidden layer of 1024 neurons, using the SGD optimizer. You should output the training and validation accuracy at every epoch, and train for 50 epochs:\n"
   ]
  },
  {
   "cell_type": "code",
   "execution_count": 4,
   "metadata": {},
   "outputs": [
    {
     "name": "stdout",
     "output_type": "stream",
     "text": [
      "Epoch 1/100\n",
      "1563/1563 [==============================] - 16s 10ms/step - loss: 1.8531 - accuracy: 0.3389 - val_loss: 1.7663 - val_accuracy: 0.3714\n",
      "Epoch 2/100\n",
      "1563/1563 [==============================] - 14s 9ms/step - loss: 1.6737 - accuracy: 0.4121 - val_loss: 1.6823 - val_accuracy: 0.4008\n",
      "Epoch 3/100\n",
      "1563/1563 [==============================] - 14s 9ms/step - loss: 1.5967 - accuracy: 0.4405 - val_loss: 1.5999 - val_accuracy: 0.4280\n",
      "Epoch 4/100\n",
      "1563/1563 [==============================] - 14s 9ms/step - loss: 1.5417 - accuracy: 0.4622 - val_loss: 1.5240 - val_accuracy: 0.4637\n",
      "Epoch 5/100\n",
      "1563/1563 [==============================] - 15s 10ms/step - loss: 1.5007 - accuracy: 0.4760 - val_loss: 1.5746 - val_accuracy: 0.4473\n",
      "Epoch 6/100\n",
      "1563/1563 [==============================] - 14s 9ms/step - loss: 1.4651 - accuracy: 0.4909 - val_loss: 1.5850 - val_accuracy: 0.4395\n",
      "Epoch 7/100\n",
      "1563/1563 [==============================] - 15s 10ms/step - loss: 1.4323 - accuracy: 0.5002 - val_loss: 1.4800 - val_accuracy: 0.4697\n",
      "Epoch 8/100\n",
      "1563/1563 [==============================] - 14s 9ms/step - loss: 1.4039 - accuracy: 0.5103 - val_loss: 1.4689 - val_accuracy: 0.4838\n",
      "Epoch 9/100\n",
      "1563/1563 [==============================] - 14s 9ms/step - loss: 1.3783 - accuracy: 0.5194 - val_loss: 1.4707 - val_accuracy: 0.4847\n",
      "Epoch 10/100\n",
      "1563/1563 [==============================] - 14s 9ms/step - loss: 1.3547 - accuracy: 0.5266 - val_loss: 1.4284 - val_accuracy: 0.4972\n",
      "Epoch 11/100\n",
      "1563/1563 [==============================] - 15s 10ms/step - loss: 1.3340 - accuracy: 0.5350 - val_loss: 1.3941 - val_accuracy: 0.5044\n",
      "Epoch 12/100\n",
      "1563/1563 [==============================] - 15s 10ms/step - loss: 1.3137 - accuracy: 0.5427 - val_loss: 1.4094 - val_accuracy: 0.5001\n",
      "Epoch 13/100\n",
      "1563/1563 [==============================] - 16s 10ms/step - loss: 1.2944 - accuracy: 0.5498 - val_loss: 1.4261 - val_accuracy: 0.4915\n",
      "Epoch 14/100\n",
      "1563/1563 [==============================] - 16s 10ms/step - loss: 1.2741 - accuracy: 0.5566 - val_loss: 1.3678 - val_accuracy: 0.5107\n",
      "Epoch 15/100\n",
      "1563/1563 [==============================] - 17s 11ms/step - loss: 1.2549 - accuracy: 0.5629 - val_loss: 1.3774 - val_accuracy: 0.5088\n",
      "Epoch 16/100\n",
      "1563/1563 [==============================] - 17s 11ms/step - loss: 1.2415 - accuracy: 0.5678 - val_loss: 1.4121 - val_accuracy: 0.4998\n",
      "Epoch 17/100\n",
      "1563/1563 [==============================] - 16s 10ms/step - loss: 1.2260 - accuracy: 0.5715 - val_loss: 1.3566 - val_accuracy: 0.5232\n",
      "Epoch 18/100\n",
      "1563/1563 [==============================] - 17s 11ms/step - loss: 1.2097 - accuracy: 0.5774 - val_loss: 1.3804 - val_accuracy: 0.5145\n",
      "Epoch 19/100\n",
      "1563/1563 [==============================] - 15s 9ms/step - loss: 1.1924 - accuracy: 0.5852 - val_loss: 1.4194 - val_accuracy: 0.5003\n",
      "Epoch 20/100\n",
      "1563/1563 [==============================] - 15s 10ms/step - loss: 1.1796 - accuracy: 0.5895 - val_loss: 1.3554 - val_accuracy: 0.5129\n",
      "Epoch 21/100\n",
      "1563/1563 [==============================] - 15s 10ms/step - loss: 1.1621 - accuracy: 0.5959 - val_loss: 1.3646 - val_accuracy: 0.5167\n",
      "Epoch 22/100\n",
      "1563/1563 [==============================] - 16s 10ms/step - loss: 1.1485 - accuracy: 0.5997 - val_loss: 1.3543 - val_accuracy: 0.5242\n",
      "Epoch 23/100\n",
      "1563/1563 [==============================] - 15s 10ms/step - loss: 1.1347 - accuracy: 0.6060 - val_loss: 1.3658 - val_accuracy: 0.5156\n",
      "Epoch 24/100\n",
      "1563/1563 [==============================] - 15s 10ms/step - loss: 1.1219 - accuracy: 0.6124 - val_loss: 1.3243 - val_accuracy: 0.5312\n",
      "Epoch 25/100\n",
      "1563/1563 [==============================] - 18s 11ms/step - loss: 1.1068 - accuracy: 0.6133 - val_loss: 1.4166 - val_accuracy: 0.4943\n",
      "Epoch 26/100\n",
      "1563/1563 [==============================] - 15s 10ms/step - loss: 1.0942 - accuracy: 0.6193 - val_loss: 1.3272 - val_accuracy: 0.5353\n",
      "Epoch 27/100\n",
      "1563/1563 [==============================] - 16s 10ms/step - loss: 1.0817 - accuracy: 0.6254 - val_loss: 1.3088 - val_accuracy: 0.5408\n",
      "Epoch 28/100\n",
      "1563/1563 [==============================] - 17s 11ms/step - loss: 1.0667 - accuracy: 0.6283 - val_loss: 1.4138 - val_accuracy: 0.5149\n",
      "Epoch 29/100\n",
      "1563/1563 [==============================] - 16s 10ms/step - loss: 1.0550 - accuracy: 0.6357 - val_loss: 1.3680 - val_accuracy: 0.5292\n",
      "Epoch 30/100\n",
      "1563/1563 [==============================] - 15s 10ms/step - loss: 1.0403 - accuracy: 0.6378 - val_loss: 1.5129 - val_accuracy: 0.4731\n",
      "Epoch 31/100\n",
      "1563/1563 [==============================] - 14s 9ms/step - loss: 1.0286 - accuracy: 0.6414 - val_loss: 1.3560 - val_accuracy: 0.5288\n",
      "Epoch 32/100\n",
      "1563/1563 [==============================] - 15s 10ms/step - loss: 1.0152 - accuracy: 0.6503 - val_loss: 1.3537 - val_accuracy: 0.5323\n",
      "Epoch 33/100\n",
      "1563/1563 [==============================] - 16s 10ms/step - loss: 1.0016 - accuracy: 0.6529 - val_loss: 1.3351 - val_accuracy: 0.5343\n",
      "Epoch 34/100\n",
      "1563/1563 [==============================] - 16s 10ms/step - loss: 0.9893 - accuracy: 0.6585 - val_loss: 1.3490 - val_accuracy: 0.5272\n",
      "Epoch 35/100\n",
      "1563/1563 [==============================] - 15s 10ms/step - loss: 0.9766 - accuracy: 0.6631 - val_loss: 1.5834 - val_accuracy: 0.4688\n",
      "Epoch 36/100\n",
      "1563/1563 [==============================] - 15s 9ms/step - loss: 0.9621 - accuracy: 0.6688 - val_loss: 1.3439 - val_accuracy: 0.5383\n",
      "Epoch 37/100\n",
      "1563/1563 [==============================] - 15s 9ms/step - loss: 0.9508 - accuracy: 0.6719 - val_loss: 1.3886 - val_accuracy: 0.5325\n",
      "Epoch 38/100\n",
      "1563/1563 [==============================] - 14s 9ms/step - loss: 0.9373 - accuracy: 0.6765 - val_loss: 1.4134 - val_accuracy: 0.5126\n",
      "Epoch 39/100\n",
      "1563/1563 [==============================] - 15s 9ms/step - loss: 0.9283 - accuracy: 0.6819 - val_loss: 1.3569 - val_accuracy: 0.5380\n",
      "Epoch 40/100\n",
      "1563/1563 [==============================] - 15s 9ms/step - loss: 0.9141 - accuracy: 0.6838 - val_loss: 1.5312 - val_accuracy: 0.4995\n",
      "Epoch 41/100\n",
      "1563/1563 [==============================] - 15s 9ms/step - loss: 0.9036 - accuracy: 0.6885 - val_loss: 1.3703 - val_accuracy: 0.5296\n",
      "Epoch 42/100\n",
      "1563/1563 [==============================] - 15s 9ms/step - loss: 0.8909 - accuracy: 0.6929 - val_loss: 1.3196 - val_accuracy: 0.5463\n",
      "Epoch 43/100\n",
      "1563/1563 [==============================] - 15s 9ms/step - loss: 0.8777 - accuracy: 0.6981 - val_loss: 1.5335 - val_accuracy: 0.4880\n",
      "Epoch 44/100\n",
      "1563/1563 [==============================] - 15s 9ms/step - loss: 0.8656 - accuracy: 0.7034 - val_loss: 1.3266 - val_accuracy: 0.5447\n",
      "Epoch 45/100\n",
      "1563/1563 [==============================] - 15s 9ms/step - loss: 0.8571 - accuracy: 0.7077 - val_loss: 1.4087 - val_accuracy: 0.5279\n",
      "Epoch 46/100\n",
      "1563/1563 [==============================] - 14s 9ms/step - loss: 0.8483 - accuracy: 0.7074 - val_loss: 1.4341 - val_accuracy: 0.5181\n",
      "Epoch 47/100\n",
      "1563/1563 [==============================] - 14s 9ms/step - loss: 0.8338 - accuracy: 0.7140 - val_loss: 1.3735 - val_accuracy: 0.5354\n",
      "Epoch 48/100\n",
      "1563/1563 [==============================] - 15s 10ms/step - loss: 0.8209 - accuracy: 0.7185 - val_loss: 1.3781 - val_accuracy: 0.5411\n",
      "Epoch 49/100\n",
      "1563/1563 [==============================] - 15s 9ms/step - loss: 0.8099 - accuracy: 0.7227 - val_loss: 1.3365 - val_accuracy: 0.5453\n",
      "Epoch 50/100\n",
      "1563/1563 [==============================] - 15s 9ms/step - loss: 0.7973 - accuracy: 0.7253 - val_loss: 1.3627 - val_accuracy: 0.5471\n",
      "Epoch 51/100\n",
      "1563/1563 [==============================] - 15s 10ms/step - loss: 0.7884 - accuracy: 0.7292 - val_loss: 1.3765 - val_accuracy: 0.5439\n",
      "Epoch 52/100\n",
      "1563/1563 [==============================] - 15s 9ms/step - loss: 0.7807 - accuracy: 0.7344 - val_loss: 1.4656 - val_accuracy: 0.5141\n",
      "Epoch 53/100\n",
      "1563/1563 [==============================] - 15s 10ms/step - loss: 0.7678 - accuracy: 0.7369 - val_loss: 1.4493 - val_accuracy: 0.5256\n",
      "Epoch 54/100\n",
      "1563/1563 [==============================] - 14s 9ms/step - loss: 0.7545 - accuracy: 0.7424 - val_loss: 1.4030 - val_accuracy: 0.5375\n",
      "Epoch 55/100\n",
      "1563/1563 [==============================] - 14s 9ms/step - loss: 0.7411 - accuracy: 0.7511 - val_loss: 1.4253 - val_accuracy: 0.5335\n",
      "Epoch 56/100\n",
      "1563/1563 [==============================] - 15s 10ms/step - loss: 0.7309 - accuracy: 0.7514 - val_loss: 1.5335 - val_accuracy: 0.5068\n",
      "Epoch 57/100\n",
      "1563/1563 [==============================] - 14s 9ms/step - loss: 0.7212 - accuracy: 0.7561 - val_loss: 1.4265 - val_accuracy: 0.5307\n",
      "Epoch 58/100\n",
      "1563/1563 [==============================] - 14s 9ms/step - loss: 0.7146 - accuracy: 0.7581 - val_loss: 1.4553 - val_accuracy: 0.5326\n",
      "Epoch 59/100\n",
      "1563/1563 [==============================] - 15s 9ms/step - loss: 0.6991 - accuracy: 0.7640 - val_loss: 1.6323 - val_accuracy: 0.5002\n",
      "Epoch 60/100\n",
      "1563/1563 [==============================] - 14s 9ms/step - loss: 0.6900 - accuracy: 0.7636 - val_loss: 1.5286 - val_accuracy: 0.5158\n",
      "Epoch 61/100\n",
      "1563/1563 [==============================] - 15s 9ms/step - loss: 0.6765 - accuracy: 0.7710 - val_loss: 1.5063 - val_accuracy: 0.5161\n",
      "Epoch 62/100\n",
      "1563/1563 [==============================] - 14s 9ms/step - loss: 0.6709 - accuracy: 0.7723 - val_loss: 1.4467 - val_accuracy: 0.5385\n",
      "Epoch 63/100\n",
      "1563/1563 [==============================] - 15s 9ms/step - loss: 0.6573 - accuracy: 0.7784 - val_loss: 1.4975 - val_accuracy: 0.5305\n",
      "Epoch 64/100\n",
      "1563/1563 [==============================] - 15s 9ms/step - loss: 0.6499 - accuracy: 0.7786 - val_loss: 1.4105 - val_accuracy: 0.5486\n",
      "Epoch 65/100\n",
      "1563/1563 [==============================] - 15s 9ms/step - loss: 0.6373 - accuracy: 0.7867 - val_loss: 1.4821 - val_accuracy: 0.5362\n",
      "Epoch 66/100\n",
      "1563/1563 [==============================] - 14s 9ms/step - loss: 0.6280 - accuracy: 0.7903 - val_loss: 1.4335 - val_accuracy: 0.5410\n",
      "Epoch 67/100\n",
      "1563/1563 [==============================] - 15s 9ms/step - loss: 0.6228 - accuracy: 0.7908 - val_loss: 1.5011 - val_accuracy: 0.5327\n",
      "Epoch 68/100\n",
      "1563/1563 [==============================] - 14s 9ms/step - loss: 0.6105 - accuracy: 0.7949 - val_loss: 1.4763 - val_accuracy: 0.5419\n",
      "Epoch 69/100\n",
      "1563/1563 [==============================] - 15s 9ms/step - loss: 0.5972 - accuracy: 0.8024 - val_loss: 1.7207 - val_accuracy: 0.4925\n",
      "Epoch 70/100\n",
      "1563/1563 [==============================] - 14s 9ms/step - loss: 0.5901 - accuracy: 0.8029 - val_loss: 1.5394 - val_accuracy: 0.5349\n",
      "Epoch 71/100\n",
      "1563/1563 [==============================] - 14s 9ms/step - loss: 0.5814 - accuracy: 0.8064 - val_loss: 1.5576 - val_accuracy: 0.5238\n",
      "Epoch 72/100\n",
      "1563/1563 [==============================] - 14s 9ms/step - loss: 0.5702 - accuracy: 0.8094 - val_loss: 1.5578 - val_accuracy: 0.5279\n",
      "Epoch 73/100\n",
      "1563/1563 [==============================] - 15s 10ms/step - loss: 0.5652 - accuracy: 0.8123 - val_loss: 1.4712 - val_accuracy: 0.5433\n",
      "Epoch 74/100\n",
      "1563/1563 [==============================] - 15s 10ms/step - loss: 0.5550 - accuracy: 0.8168 - val_loss: 1.5048 - val_accuracy: 0.5400\n",
      "Epoch 75/100\n",
      "1563/1563 [==============================] - 16s 10ms/step - loss: 0.5411 - accuracy: 0.8221 - val_loss: 1.6850 - val_accuracy: 0.5064\n",
      "Epoch 76/100\n",
      "1563/1563 [==============================] - 17s 11ms/step - loss: 0.5381 - accuracy: 0.8211 - val_loss: 1.6356 - val_accuracy: 0.5255\n",
      "Epoch 77/100\n",
      "1563/1563 [==============================] - 16s 10ms/step - loss: 0.5267 - accuracy: 0.8271 - val_loss: 1.5480 - val_accuracy: 0.5335\n",
      "Epoch 78/100\n",
      "1563/1563 [==============================] - 17s 11ms/step - loss: 0.5172 - accuracy: 0.8293 - val_loss: 1.6038 - val_accuracy: 0.5272\n",
      "Epoch 79/100\n",
      "1563/1563 [==============================] - 17s 11ms/step - loss: 0.5090 - accuracy: 0.8331 - val_loss: 1.4760 - val_accuracy: 0.5563\n",
      "Epoch 80/100\n",
      "1563/1563 [==============================] - 17s 11ms/step - loss: 0.4993 - accuracy: 0.8351 - val_loss: 1.5399 - val_accuracy: 0.5427\n",
      "Epoch 81/100\n",
      "1563/1563 [==============================] - 16s 10ms/step - loss: 0.4925 - accuracy: 0.8384 - val_loss: 1.5128 - val_accuracy: 0.5474\n",
      "Epoch 82/100\n",
      "1563/1563 [==============================] - 15s 10ms/step - loss: 0.4834 - accuracy: 0.8428 - val_loss: 1.5690 - val_accuracy: 0.5436\n",
      "Epoch 83/100\n",
      "1563/1563 [==============================] - 15s 10ms/step - loss: 0.4747 - accuracy: 0.8458 - val_loss: 1.9907 - val_accuracy: 0.4862\n",
      "Epoch 84/100\n",
      "1563/1563 [==============================] - 15s 10ms/step - loss: 0.4677 - accuracy: 0.8472 - val_loss: 1.5452 - val_accuracy: 0.5475\n",
      "Epoch 85/100\n",
      "1563/1563 [==============================] - 16s 10ms/step - loss: 0.4606 - accuracy: 0.8508 - val_loss: 1.5731 - val_accuracy: 0.5444\n",
      "Epoch 86/100\n",
      "1563/1563 [==============================] - 15s 10ms/step - loss: 0.4469 - accuracy: 0.8557 - val_loss: 1.5692 - val_accuracy: 0.5412\n",
      "Epoch 87/100\n",
      "1563/1563 [==============================] - 16s 10ms/step - loss: 0.4409 - accuracy: 0.8602 - val_loss: 1.5546 - val_accuracy: 0.5433\n",
      "Epoch 88/100\n",
      "1563/1563 [==============================] - 15s 10ms/step - loss: 0.4360 - accuracy: 0.8599 - val_loss: 1.6026 - val_accuracy: 0.5486\n",
      "Epoch 89/100\n",
      "1563/1563 [==============================] - 16s 10ms/step - loss: 0.4241 - accuracy: 0.8643 - val_loss: 1.9177 - val_accuracy: 0.4763\n",
      "Epoch 90/100\n",
      "1563/1563 [==============================] - 16s 10ms/step - loss: 0.4162 - accuracy: 0.8674 - val_loss: 1.6351 - val_accuracy: 0.5350\n",
      "Epoch 91/100\n",
      "1563/1563 [==============================] - 17s 11ms/step - loss: 0.4126 - accuracy: 0.8681 - val_loss: 1.5550 - val_accuracy: 0.5525\n",
      "Epoch 92/100\n",
      "1563/1563 [==============================] - 17s 11ms/step - loss: 0.4045 - accuracy: 0.8720 - val_loss: 1.6387 - val_accuracy: 0.5389\n",
      "Epoch 93/100\n",
      "1563/1563 [==============================] - 17s 11ms/step - loss: 0.3990 - accuracy: 0.8741 - val_loss: 1.5986 - val_accuracy: 0.5511\n",
      "Epoch 94/100\n",
      "1563/1563 [==============================] - 17s 11ms/step - loss: 0.3931 - accuracy: 0.8754 - val_loss: 1.7182 - val_accuracy: 0.5387\n",
      "Epoch 95/100\n",
      "1563/1563 [==============================] - 15s 10ms/step - loss: 0.3830 - accuracy: 0.8790 - val_loss: 1.7223 - val_accuracy: 0.5354\n",
      "Epoch 96/100\n",
      "1563/1563 [==============================] - 15s 10ms/step - loss: 0.3757 - accuracy: 0.8818 - val_loss: 1.7274 - val_accuracy: 0.5243\n",
      "Epoch 97/100\n",
      "1563/1563 [==============================] - 16s 10ms/step - loss: 0.3717 - accuracy: 0.8832 - val_loss: 1.6211 - val_accuracy: 0.5457\n",
      "Epoch 98/100\n",
      "1563/1563 [==============================] - 16s 10ms/step - loss: 0.3622 - accuracy: 0.8862 - val_loss: 1.6342 - val_accuracy: 0.5442\n",
      "Epoch 99/100\n",
      "1563/1563 [==============================] - 15s 10ms/step - loss: 0.3565 - accuracy: 0.8896 - val_loss: 1.7808 - val_accuracy: 0.5313\n",
      "Epoch 100/100\n",
      "1563/1563 [==============================] - 16s 10ms/step - loss: 0.3464 - accuracy: 0.8942 - val_loss: 1.6782 - val_accuracy: 0.5467\n"
     ]
    },
    {
     "data": {
      "image/png": "[encoded data removed]",
      "text/plain": [
       "<Figure size 640x480 with 1 Axes>"
      ]
     },
     "metadata": {},
     "output_type": "display_data"
    }
   ],
   "source": [
    "\"\"\" \n",
    "Write your code to build an MLP with one hidden layer of 1024 neurons,\n",
    "with an SGD optimizer. Train for 100 epochs, and output the training and\n",
    "validation accuracy at each epoch.\n",
    "\"\"\"\n",
    "import tensorflow as tf\n",
    "from tensorflow.keras.models import Sequential\n",
    "from tensorflow.keras.layers import Dense, Flatten\n",
    "from tensorflow.keras.optimizers import SGD\n",
    "from tensorflow.keras.datasets import cifar10\n",
    "from tensorflow.keras.utils import to_categorical\n",
    "\n",
    "# Create the MLP model\n",
    "model = Sequential([\n",
    "    Dense(1024, activation='relu', input_shape=(3072,)),\n",
    "    Dense(10, activation='softmax')\n",
    "])\n",
    "\n",
    "# Compile the model\n",
    "model.compile(optimizer=SGD(), \n",
    "              loss='categorical_crossentropy', \n",
    "              metrics=['accuracy'])\n",
    "\n",
    "# Train the model\n",
    "history = model.fit(train_x, train_y, epochs=100, batch_size=32, \n",
    "                    validation_data=(test_x, test_y), verbose=1)\n",
    "\n",
    "# Output training and validation accuracy at each epoch\n",
    "import matplotlib.pyplot as plt\n",
    "\n",
    "plt.plot(history.history['accuracy'], label='Training accuracy')\n",
    "plt.plot(history.history['val_accuracy'], label='Validation accuracy')\n",
    "plt.title('Training and Validation Accuracy')\n",
    "plt.xlabel('Epoch')\n",
    "plt.ylabel('Accuracy')\n",
    "plt.legend()\n",
    "plt.show()"
   ]
  },
  {
   "cell_type": "markdown",
   "metadata": {},
   "source": [
    "#### Question 2\n",
    "\n",
    "Complete the following table on the design choices for your MLP \n",
    "(3 MARKS):\n",
    "\n",
    "| Hyperparameter       | What I used | Why?                  |\n",
    "|:---------------------|:------------|:----------------------|\n",
    "| Optimizer            | SGD         | Specified in question |\n",
    "| # of hidden layers   | 1           | Specified in question |\n",
    "| # of hidden neurons  | 1024        | Specified in question |\n",
    "| Hid layer activation | ReLU            | Helps avoid vanishing gradient problems and speeds up training.                      |\n",
    "| # of output neurons  | 10            | Matches the number of classes in CIFAR-10 dataset.                      |\n",
    "| Output activation    | Softmax            | Softmax is suitable for multi-class classification, providing probabilities for each class.                      |\n",
    "| learning_rate        | Default of SGD 0.01           | Typical choice for initial experiments;                      |\n",
    "| momentum             | Default of SGD 0.0           | Momentum is not altered unless specified; helps in faster convergence.                      |\n",
    "| decay                | Default of SGD 0.0           | Learning rate decay not specified; it would help in stabilizing learning as training progresses.                      |\n",
    "| loss                 | Categorical Crossentropy            | Suitable for multi-class classification problems where classes are mutually exclusive.                      |\n",
    "\n",
    "*For TA: ___ / 3* <br>\n",
    "*Code:  ____/ 5* <br>\n",
    "**TOTAL: ____ / 8** <br>\n",
    "\n",
    "#### Question 3:\n",
    "\n",
    "What was your final training accuracy? Validation accuracy? Is there overfitting / underfitting? Explain your answer (5 MARKS)\n",
    "\n",
    "***The model exhibits overfitting, as evidenced by a high training accuracy of 89.42% and a significantly lower validation accuracy of 54.67% after 100 epochs. While the model effectively learns the training data, the substantial gap between training and validation performance indicates it does not generalize well to new data.***\n",
    "\n",
    "*FOR GRADER: ______ / 5*\n",
    "\n",
    "### 3.3 Experimenting with the MLP\n",
    "\n",
    "Cut and paste your code from Section 3.2 to the box below (you may need to rename your MLP). Experiment with the number of hidden layers, the number of neurons in each hidden layer, the optimization algorithm, etc. See [Keras Optimizers](https://keras.io/optimizers) for the types of optimizers and their parameters. **Train for 100 epochs.**\n"
   ]
  },
  {
   "cell_type": "code",
   "execution_count": 14,
   "metadata": {},
   "outputs": [
    {
     "name": "stdout",
     "output_type": "stream",
     "text": [
      "Epoch 1/100\n",
      "782/782 [==============================] - 36s 45ms/step - loss: 1.9209 - accuracy: 0.3381 - val_loss: 2.1279 - val_accuracy: 0.2958 - lr: 0.0010\n",
      "Epoch 2/100\n",
      "782/782 [==============================] - 35s 45ms/step - loss: 1.6728 - accuracy: 0.4055 - val_loss: 1.8582 - val_accuracy: 0.3445 - lr: 0.0010\n",
      "Epoch 3/100\n",
      "782/782 [==============================] - 36s 46ms/step - loss: 1.5948 - accuracy: 0.4306 - val_loss: 1.7486 - val_accuracy: 0.3578 - lr: 0.0010\n",
      "Epoch 4/100\n",
      "782/782 [==============================] - 36s 46ms/step - loss: 1.5356 - accuracy: 0.4505 - val_loss: 1.7780 - val_accuracy: 0.3813 - lr: 0.0010\n",
      "Epoch 5/100\n",
      "782/782 [==============================] - 35s 45ms/step - loss: 1.4952 - accuracy: 0.4655 - val_loss: 1.4889 - val_accuracy: 0.4738 - lr: 0.0010\n",
      "Epoch 6/100\n",
      "782/782 [==============================] - 36s 46ms/step - loss: 1.4685 - accuracy: 0.4753 - val_loss: 1.6106 - val_accuracy: 0.4158 - lr: 0.0010\n",
      "Epoch 7/100\n",
      "782/782 [==============================] - 36s 46ms/step - loss: 1.4388 - accuracy: 0.4836 - val_loss: 1.9572 - val_accuracy: 0.2853 - lr: 0.0010\n",
      "Epoch 8/100\n",
      "782/782 [==============================] - 36s 46ms/step - loss: 1.4184 - accuracy: 0.4954 - val_loss: 1.4566 - val_accuracy: 0.4857 - lr: 0.0010\n",
      "Epoch 9/100\n",
      "782/782 [==============================] - 35s 45ms/step - loss: 1.4006 - accuracy: 0.5002 - val_loss: 1.4697 - val_accuracy: 0.4653 - lr: 0.0010\n",
      "Epoch 10/100\n",
      "782/782 [==============================] - 36s 46ms/step - loss: 1.3946 - accuracy: 0.5027 - val_loss: 1.5841 - val_accuracy: 0.4394 - lr: 0.0010\n",
      "Epoch 11/100\n",
      "782/782 [==============================] - 35s 45ms/step - loss: 1.3654 - accuracy: 0.5100 - val_loss: 1.4646 - val_accuracy: 0.4754 - lr: 0.0010\n",
      "Epoch 12/100\n",
      "782/782 [==============================] - 35s 45ms/step - loss: 1.3504 - accuracy: 0.5146 - val_loss: 1.3680 - val_accuracy: 0.5122 - lr: 0.0010\n",
      "Epoch 13/100\n",
      "782/782 [==============================] - 36s 46ms/step - loss: 1.3325 - accuracy: 0.5236 - val_loss: 1.3472 - val_accuracy: 0.5180 - lr: 0.0010\n",
      "Epoch 14/100\n",
      "782/782 [==============================] - 36s 46ms/step - loss: 1.3161 - accuracy: 0.5288 - val_loss: 1.3816 - val_accuracy: 0.5113 - lr: 0.0010\n",
      "Epoch 15/100\n",
      "782/782 [==============================] - 35s 45ms/step - loss: 1.3009 - accuracy: 0.5350 - val_loss: 1.3822 - val_accuracy: 0.5066 - lr: 0.0010\n",
      "Epoch 16/100\n",
      "782/782 [==============================] - 36s 46ms/step - loss: 1.2898 - accuracy: 0.5406 - val_loss: 1.3953 - val_accuracy: 0.5079 - lr: 0.0010\n",
      "Epoch 17/100\n",
      "782/782 [==============================] - 36s 46ms/step - loss: 1.2744 - accuracy: 0.5467 - val_loss: 1.3486 - val_accuracy: 0.5215 - lr: 0.0010\n",
      "Epoch 18/100\n",
      "782/782 [==============================] - 35s 45ms/step - loss: 1.2689 - accuracy: 0.5494 - val_loss: 1.3233 - val_accuracy: 0.5334 - lr: 0.0010\n",
      "Epoch 19/100\n",
      "782/782 [==============================] - 35s 45ms/step - loss: 1.2468 - accuracy: 0.5566 - val_loss: 1.3181 - val_accuracy: 0.5342 - lr: 0.0010\n",
      "Epoch 20/100\n",
      "782/782 [==============================] - 36s 46ms/step - loss: 1.2362 - accuracy: 0.5582 - val_loss: 1.3153 - val_accuracy: 0.5339 - lr: 0.0010\n",
      "Epoch 21/100\n",
      "782/782 [==============================] - 36s 46ms/step - loss: 1.2190 - accuracy: 0.5636 - val_loss: 1.5815 - val_accuracy: 0.4917 - lr: 0.0010\n",
      "Epoch 22/100\n",
      "782/782 [==============================] - 36s 46ms/step - loss: 1.2083 - accuracy: 0.5671 - val_loss: 1.3003 - val_accuracy: 0.5396 - lr: 0.0010\n",
      "Epoch 23/100\n",
      "782/782 [==============================] - 36s 46ms/step - loss: 1.2050 - accuracy: 0.5700 - val_loss: 1.3482 - val_accuracy: 0.5293 - lr: 0.0010\n",
      "Epoch 24/100\n",
      "782/782 [==============================] - 36s 46ms/step - loss: 1.1984 - accuracy: 0.5735 - val_loss: 1.2980 - val_accuracy: 0.5414 - lr: 0.0010\n",
      "Epoch 25/100\n",
      "782/782 [==============================] - 36s 46ms/step - loss: 1.1859 - accuracy: 0.5783 - val_loss: 1.3381 - val_accuracy: 0.5268 - lr: 0.0010\n",
      "Epoch 26/100\n",
      "782/782 [==============================] - 36s 46ms/step - loss: 1.1739 - accuracy: 0.5810 - val_loss: 1.3727 - val_accuracy: 0.5165 - lr: 0.0010\n",
      "Epoch 27/100\n",
      "782/782 [==============================] - 36s 46ms/step - loss: 1.1707 - accuracy: 0.5821 - val_loss: 1.3113 - val_accuracy: 0.5349 - lr: 0.0010\n",
      "Epoch 28/100\n",
      "782/782 [==============================] - 36s 46ms/step - loss: 1.1664 - accuracy: 0.5838 - val_loss: 1.3237 - val_accuracy: 0.5242 - lr: 0.0010\n",
      "Epoch 29/100\n",
      "782/782 [==============================] - 36s 46ms/step - loss: 1.1556 - accuracy: 0.5859 - val_loss: 1.2865 - val_accuracy: 0.5435 - lr: 0.0010\n",
      "Epoch 30/100\n",
      "782/782 [==============================] - 36s 46ms/step - loss: 1.1478 - accuracy: 0.5891 - val_loss: 1.3005 - val_accuracy: 0.5380 - lr: 0.0010\n",
      "Epoch 31/100\n",
      "782/782 [==============================] - 36s 46ms/step - loss: 1.1448 - accuracy: 0.5873 - val_loss: 1.2979 - val_accuracy: 0.5426 - lr: 0.0010\n",
      "Epoch 32/100\n",
      "782/782 [==============================] - 36s 46ms/step - loss: 1.1430 - accuracy: 0.5915 - val_loss: 1.3577 - val_accuracy: 0.5286 - lr: 0.0010\n",
      "Epoch 33/100\n",
      "782/782 [==============================] - 36s 47ms/step - loss: 1.1300 - accuracy: 0.5978 - val_loss: 1.3079 - val_accuracy: 0.5426 - lr: 0.0010\n",
      "Epoch 34/100\n",
      "782/782 [==============================] - ETA: 0s - loss: 1.1235 - accuracy: 0.5979\n",
      "Epoch 34: ReduceLROnPlateau reducing learning rate to 0.00020000000949949026.\n",
      "782/782 [==============================] - 37s 47ms/step - loss: 1.1235 - accuracy: 0.5979 - val_loss: 1.2927 - val_accuracy: 0.5485 - lr: 0.0010\n",
      "Epoch 35/100\n",
      "782/782 [==============================] - 36s 46ms/step - loss: 1.0522 - accuracy: 0.6242 - val_loss: 1.2030 - val_accuracy: 0.5800 - lr: 2.0000e-04\n",
      "Epoch 36/100\n",
      "782/782 [==============================] - 36s 45ms/step - loss: 1.0295 - accuracy: 0.6319 - val_loss: 1.2011 - val_accuracy: 0.5795 - lr: 2.0000e-04\n",
      "Epoch 37/100\n",
      "782/782 [==============================] - 36s 46ms/step - loss: 1.0183 - accuracy: 0.6383 - val_loss: 1.1949 - val_accuracy: 0.5811 - lr: 2.0000e-04\n",
      "Epoch 38/100\n",
      "782/782 [==============================] - 36s 46ms/step - loss: 1.0076 - accuracy: 0.6392 - val_loss: 1.2001 - val_accuracy: 0.5780 - lr: 2.0000e-04\n",
      "Epoch 39/100\n",
      "782/782 [==============================] - 36s 46ms/step - loss: 1.0065 - accuracy: 0.6397 - val_loss: 1.2044 - val_accuracy: 0.5770 - lr: 2.0000e-04\n",
      "Epoch 40/100\n",
      "782/782 [==============================] - 36s 46ms/step - loss: 0.9989 - accuracy: 0.6412 - val_loss: 1.2068 - val_accuracy: 0.5780 - lr: 2.0000e-04\n",
      "Epoch 41/100\n",
      "782/782 [==============================] - 37s 47ms/step - loss: 0.9960 - accuracy: 0.6410 - val_loss: 1.2220 - val_accuracy: 0.5774 - lr: 2.0000e-04\n",
      "Epoch 42/100\n",
      "781/782 [============================>.] - ETA: 0s - loss: 0.9967 - accuracy: 0.6445\n",
      "Epoch 42: ReduceLROnPlateau reducing learning rate to 0.0001.\n",
      "782/782 [==============================] - 36s 46ms/step - loss: 0.9967 - accuracy: 0.6445 - val_loss: 1.2024 - val_accuracy: 0.5831 - lr: 2.0000e-04\n",
      "Epoch 43/100\n",
      "782/782 [==============================] - 36s 46ms/step - loss: 0.9800 - accuracy: 0.6491 - val_loss: 1.1920 - val_accuracy: 0.5843 - lr: 1.0000e-04\n",
      "Epoch 44/100\n",
      "782/782 [==============================] - 36s 46ms/step - loss: 0.9705 - accuracy: 0.6544 - val_loss: 1.1979 - val_accuracy: 0.5856 - lr: 1.0000e-04\n",
      "Epoch 45/100\n",
      "782/782 [==============================] - 36s 46ms/step - loss: 0.9704 - accuracy: 0.6532 - val_loss: 1.1971 - val_accuracy: 0.5837 - lr: 1.0000e-04\n",
      "Epoch 46/100\n",
      "782/782 [==============================] - 36s 46ms/step - loss: 0.9672 - accuracy: 0.6537 - val_loss: 1.1952 - val_accuracy: 0.5843 - lr: 1.0000e-04\n",
      "Epoch 47/100\n",
      "782/782 [==============================] - 37s 47ms/step - loss: 0.9645 - accuracy: 0.6558 - val_loss: 1.2050 - val_accuracy: 0.5827 - lr: 1.0000e-04\n",
      "Epoch 48/100\n",
      "782/782 [==============================] - 36s 46ms/step - loss: 0.9600 - accuracy: 0.6575 - val_loss: 1.2049 - val_accuracy: 0.5862 - lr: 1.0000e-04\n",
      "Epoch 49/100\n",
      "782/782 [==============================] - 36s 46ms/step - loss: 0.9578 - accuracy: 0.6560 - val_loss: 1.1987 - val_accuracy: 0.5837 - lr: 1.0000e-04\n",
      "Epoch 50/100\n",
      "782/782 [==============================] - 37s 47ms/step - loss: 0.9597 - accuracy: 0.6549 - val_loss: 1.2033 - val_accuracy: 0.5843 - lr: 1.0000e-04\n",
      "Epoch 51/100\n",
      "782/782 [==============================] - 37s 47ms/step - loss: 0.9561 - accuracy: 0.6577 - val_loss: 1.1931 - val_accuracy: 0.5861 - lr: 1.0000e-04\n",
      "Epoch 52/100\n",
      "782/782 [==============================] - 36s 46ms/step - loss: 0.9566 - accuracy: 0.6562 - val_loss: 1.2000 - val_accuracy: 0.5856 - lr: 1.0000e-04\n",
      "Epoch 53/100\n",
      "781/782 [============================>.] - ETA: 0s - loss: 0.9496 - accuracy: 0.6585Restoring model weights from the end of the best epoch: 43.\n",
      "782/782 [==============================] - 35s 45ms/step - loss: 0.9499 - accuracy: 0.6585 - val_loss: 1.1986 - val_accuracy: 0.5863 - lr: 1.0000e-04\n",
      "Epoch 53: early stopping\n"
     ]
    },
    {
     "data": {
      "image/png": "[encoded data removed]",
      "text/plain": [
       "<Figure size 640x480 with 1 Axes>"
      ]
     },
     "metadata": {},
     "output_type": "display_data"
    }
   ],
   "source": [
    "\"\"\"\n",
    "Cut and paste your code from Section 3.2 below, then modify it to get\n",
    "much better results than what you had earlier. E.g. increase the number of\n",
    "nodes in the hidden layer, increase the number of hidden layers,\n",
    "change the optimizer, etc. \n",
    "\n",
    "Train for 100 epochs.\n",
    "\n",
    "\"\"\"\n",
    "from tensorflow.keras.models import Sequential\n",
    "from tensorflow.keras.layers import Dense, Dropout, BatchNormalization\n",
    "from tensorflow.keras.optimizers import Adam\n",
    "from tensorflow.keras.callbacks import EarlyStopping, ReduceLROnPlateau\n",
    "import matplotlib.pyplot as plt\n",
    "\n",
    "# Define callbacks\n",
    "early_stopping = EarlyStopping(monitor='val_loss', patience=10, verbose=1, restore_best_weights=True)\n",
    "reduce_lr = ReduceLROnPlateau(monitor='val_loss', factor=0.2, patience=5, min_lr=0.0001, verbose=1)\n",
    "\n",
    "# Create the MLP model with Batch Normalization\n",
    "model = Sequential([\n",
    "    Dense(2048, input_shape=(3072,), activation='relu'),\n",
    "    BatchNormalization(),\n",
    "    Dropout(0.2),\n",
    "    Dense(1024, activation='relu'),\n",
    "    BatchNormalization(),\n",
    "    Dropout(0.2),\n",
    "    Dense(512, activation='relu'),\n",
    "    BatchNormalization(),\n",
    "    Dropout(0.2),\n",
    "    Dense(10, activation='softmax')\n",
    "])\n",
    "\n",
    "# Compile the model with Adam optimizer\n",
    "model.compile(optimizer=Adam(learning_rate=0.001),\n",
    "              loss='categorical_crossentropy', \n",
    "              metrics=['accuracy'])\n",
    "\n",
    "# Train the model with callbacks\n",
    "history = model.fit(train_x, train_y, epochs=100, batch_size=64,\n",
    "                    validation_data=(test_x, test_y),\n",
    "                    verbose=1, callbacks=[early_stopping, reduce_lr])\n",
    "\n",
    "# Plot training and validation accuracy\n",
    "plt.plot(history.history['accuracy'], label='Training accuracy')\n",
    "plt.plot(history.history['val_accuracy'], label='Validation accuracy')\n",
    "plt.title('Training and Validation Accuracy')\n",
    "plt.xlabel('Epoch')\n",
    "plt.ylabel('Accuracy')\n",
    "plt.legend()\n",
    "plt.show()\n"
   ]
  },
  {
   "cell_type": "code",
   "execution_count": 7,
   "metadata": {},
   "outputs": [
    {
     "name": "stdout",
     "output_type": "stream",
     "text": [
      "Epoch 1/100\n",
      "\u001b[1m782/782\u001b[0m \u001b[32m━━━━━━━━━━━━━━━━━━━━\u001b[0m\u001b[37m\u001b[0m \u001b[1m48s\u001b[0m 58ms/step - accuracy: 0.3676 - loss: 1.7220 - val_accuracy: 0.5546 - val_loss: 1.2146 - learning_rate: 0.0010\n",
      "Epoch 2/100\n",
      "\u001b[1m782/782\u001b[0m \u001b[32m━━━━━━━━━━━━━━━━━━━━\u001b[0m\u001b[37m\u001b[0m \u001b[1m43s\u001b[0m 55ms/step - accuracy: 0.5834 - loss: 1.1709 - val_accuracy: 0.6179 - val_loss: 1.0773 - learning_rate: 0.0010\n",
      "Epoch 3/100\n",
      "\u001b[1m782/782\u001b[0m \u001b[32m━━━━━━━━━━━━━━━━━━━━\u001b[0m\u001b[37m\u001b[0m \u001b[1m42s\u001b[0m 54ms/step - accuracy: 0.6503 - loss: 0.9964 - val_accuracy: 0.6700 - val_loss: 0.9515 - learning_rate: 0.0010\n",
      "Epoch 4/100\n",
      "\u001b[1m782/782\u001b[0m \u001b[32m━━━━━━━━━━━━━━━━━━━━\u001b[0m\u001b[37m\u001b[0m \u001b[1m42s\u001b[0m 54ms/step - accuracy: 0.6992 - loss: 0.8621 - val_accuracy: 0.6808 - val_loss: 0.9088 - learning_rate: 0.0010\n",
      "Epoch 5/100\n",
      "\u001b[1m782/782\u001b[0m \u001b[32m━━━━━━━━━━━━━━━━━━━━\u001b[0m\u001b[37m\u001b[0m \u001b[1m43s\u001b[0m 55ms/step - accuracy: 0.7307 - loss: 0.7674 - val_accuracy: 0.6960 - val_loss: 0.8870 - learning_rate: 0.0010\n",
      "Epoch 6/100\n",
      "\u001b[1m782/782\u001b[0m \u001b[32m━━━━━━━━━━━━━━━━━━━━\u001b[0m\u001b[37m\u001b[0m \u001b[1m42s\u001b[0m 54ms/step - accuracy: 0.7562 - loss: 0.6958 - val_accuracy: 0.6950 - val_loss: 0.8766 - learning_rate: 0.0010\n",
      "Epoch 7/100\n",
      "\u001b[1m782/782\u001b[0m \u001b[32m━━━━━━━━━━━━━━━━━━━━\u001b[0m\u001b[37m\u001b[0m \u001b[1m43s\u001b[0m 55ms/step - accuracy: 0.7860 - loss: 0.6212 - val_accuracy: 0.7120 - val_loss: 0.8425 - learning_rate: 0.0010\n",
      "Epoch 8/100\n",
      "\u001b[1m782/782\u001b[0m \u001b[32m━━━━━━━━━━━━━━━━━━━━\u001b[0m\u001b[37m\u001b[0m \u001b[1m43s\u001b[0m 55ms/step - accuracy: 0.8078 - loss: 0.5546 - val_accuracy: 0.7209 - val_loss: 0.8497 - learning_rate: 0.0010\n",
      "Epoch 9/100\n",
      "\u001b[1m782/782\u001b[0m \u001b[32m━━━━━━━━━━━━━━━━━━━━\u001b[0m\u001b[37m\u001b[0m \u001b[1m44s\u001b[0m 56ms/step - accuracy: 0.8274 - loss: 0.4891 - val_accuracy: 0.7148 - val_loss: 0.8793 - learning_rate: 0.0010\n",
      "Epoch 10/100\n",
      "\u001b[1m782/782\u001b[0m \u001b[32m━━━━━━━━━━━━━━━━━━━━\u001b[0m\u001b[37m\u001b[0m \u001b[1m42s\u001b[0m 54ms/step - accuracy: 0.8503 - loss: 0.4285 - val_accuracy: 0.7092 - val_loss: 0.9084 - learning_rate: 0.0010\n",
      "Epoch 11/100\n",
      "\u001b[1m782/782\u001b[0m \u001b[32m━━━━━━━━━━━━━━━━━━━━\u001b[0m\u001b[37m\u001b[0m \u001b[1m43s\u001b[0m 55ms/step - accuracy: 0.8655 - loss: 0.3792 - val_accuracy: 0.7141 - val_loss: 0.9174 - learning_rate: 0.0010\n",
      "Epoch 12/100\n",
      "\u001b[1m781/782\u001b[0m \u001b[32m━━━━━━━━━━━━━━━━━━━\u001b[0m\u001b[37m━\u001b[0m \u001b[1m0s\u001b[0m 51ms/step - accuracy: 0.8863 - loss: 0.3310\n",
      "Epoch 12: ReduceLROnPlateau reducing learning rate to 0.00020000000949949026.\n",
      "\u001b[1m782/782\u001b[0m \u001b[32m━━━━━━━━━━━━━━━━━━━━\u001b[0m\u001b[37m\u001b[0m \u001b[1m42s\u001b[0m 54ms/step - accuracy: 0.8863 - loss: 0.3310 - val_accuracy: 0.7187 - val_loss: 0.9745 - learning_rate: 0.0010\n",
      "Epoch 13/100\n",
      "\u001b[1m782/782\u001b[0m \u001b[32m━━━━━━━━━━━━━━━━━━━━\u001b[0m\u001b[37m\u001b[0m \u001b[1m43s\u001b[0m 55ms/step - accuracy: 0.9374 - loss: 0.1996 - val_accuracy: 0.7356 - val_loss: 1.0005 - learning_rate: 2.0000e-04\n",
      "Epoch 14/100\n",
      "\u001b[1m782/782\u001b[0m \u001b[32m━━━━━━━━━━━━━━━━━━━━\u001b[0m\u001b[37m\u001b[0m \u001b[1m44s\u001b[0m 57ms/step - accuracy: 0.9567 - loss: 0.1512 - val_accuracy: 0.7366 - val_loss: 1.0601 - learning_rate: 2.0000e-04\n",
      "Epoch 15/100\n",
      "\u001b[1m782/782\u001b[0m \u001b[32m━━━━━━━━━━━━━━━━━━━━\u001b[0m\u001b[37m\u001b[0m \u001b[1m1538s\u001b[0m 2s/step - accuracy: 0.9627 - loss: 0.1315 - val_accuracy: 0.7314 - val_loss: 1.1031 - learning_rate: 2.0000e-04\n",
      "Epoch 16/100\n",
      "\u001b[1m782/782\u001b[0m \u001b[32m━━━━━━━━━━━━━━━━━━━━\u001b[0m\u001b[37m\u001b[0m \u001b[1m3784s\u001b[0m 5s/step - accuracy: 0.9691 - loss: 0.1139 - val_accuracy: 0.7358 - val_loss: 1.1523 - learning_rate: 2.0000e-04\n",
      "Epoch 17/100\n",
      "\u001b[1m782/782\u001b[0m \u001b[32m━━━━━━━━━━━━━━━━━━━━\u001b[0m\u001b[37m\u001b[0m \u001b[1m0s\u001b[0m 45ms/step - accuracy: 0.9752 - loss: 0.0988\n",
      "Epoch 17: ReduceLROnPlateau reducing learning rate to 4.0000001899898055e-05.\n",
      "\u001b[1m782/782\u001b[0m \u001b[32m━━━━━━━━━━━━━━━━━━━━\u001b[0m\u001b[37m\u001b[0m \u001b[1m77s\u001b[0m 49ms/step - accuracy: 0.9752 - loss: 0.0988 - val_accuracy: 0.7347 - val_loss: 1.2030 - learning_rate: 2.0000e-04\n"
     ]
    },
    {
     "data": {
      "image/png": "[encoded data removed]",
      "text/plain": [
       "<Figure size 1400x500 with 2 Axes>"
      ]
     },
     "metadata": {},
     "output_type": "display_data"
    }
   ],
   "source": [
    "from tensorflow.keras.models import Sequential\n",
    "from tensorflow.keras.layers import Dense, Conv2D, MaxPooling2D, Flatten\n",
    "from tensorflow.keras.optimizers import Adam\n",
    "from tensorflow.keras.callbacks import EarlyStopping, ReduceLROnPlateau\n",
    "\n",
    "# Create the CNN model\n",
    "model = Sequential([\n",
    "    Conv2D(32, (3, 3), activation='relu', input_shape=(32, 32, 3)),\n",
    "    MaxPooling2D((2, 2)),\n",
    "    Conv2D(64, (3, 3), activation='relu'),\n",
    "    MaxPooling2D((2, 2)),\n",
    "    Conv2D(128, (3, 3), activation='relu'),\n",
    "    Flatten(),\n",
    "    Dense(128, activation='relu'),\n",
    "    Dense(10, activation='softmax')\n",
    "])\n",
    "\n",
    "# Compile the model with Adam optimizer\n",
    "model.compile(optimizer=Adam(learning_rate=0.001),\n",
    "              loss='categorical_crossentropy', \n",
    "              metrics=['accuracy'])\n",
    "\n",
    "# Use the same callbacks as before\n",
    "early_stopping = EarlyStopping(monitor='val_loss', patience=10, restore_best_weights=True)\n",
    "reduce_lr = ReduceLROnPlateau(monitor='val_loss', factor=0.2, patience=5, min_lr=0.00001, verbose=1)\n",
    "\n",
    "# Adjust the input data shape and format if necessary\n",
    "train_x = train_x.reshape(-1, 32, 32, 3)\n",
    "test_x = test_x.reshape(-1, 32, 32, 3)\n",
    "\n",
    "# Train the model with callbacks\n",
    "history = model.fit(train_x, train_y, epochs=100, batch_size=64,\n",
    "                    validation_data=(test_x, test_y),\n",
    "                    verbose=1, callbacks=[early_stopping, reduce_lr])\n",
    "# Plot training and validation accuracy\n",
    "plt.figure(figsize=(14, 5))\n",
    "plt.subplot(1, 2, 1)\n",
    "plt.plot(history.history['accuracy'], label='Training accuracy')\n",
    "plt.plot(history.history['val_accuracy'], label='Validation accuracy')\n",
    "plt.title('Training and Validation Accuracy')\n",
    "plt.xlabel('Epoch')\n",
    "plt.ylabel('Accuracy')\n",
    "plt.legend()\n",
    "\n",
    "# Plot training and validation loss\n",
    "plt.subplot(1, 2, 2)\n",
    "plt.plot(history.history['loss'], label='Training loss')\n",
    "plt.plot(history.history['val_loss'], label='Validation loss')\n",
    "plt.title('Training and Validation Loss')\n",
    "plt.xlabel('Epoch')\n",
    "plt.ylabel('Loss')\n",
    "plt.legend()\n",
    "\n",
    "plt.tight_layout()\n",
    "plt.show()"
   ]
  },
  {
   "cell_type": "markdown",
   "metadata": {},
   "source": [
    "----\n",
    "\n",
    "#### Question 4:\n",
    "\n",
    "Complete the following table with your final design (you may add more rows for the # neurons (layer1) etc. to detail how many neurons you have in each hidden layer). Likewise you may replace the learning_rate, momentum etc rows with parameters more appropriate to the optimizer that you have chosen. (3 MARKS)\n",
    "\n",
    "\n",
    "| Hyperparameter       | What I used | Why?                  |\n",
    "|:---------------------|:------------|:----------------------|\n",
    "| Optimizer            | Adam            | Adam is chosen for its efficiency in handling sparse gradients on noisy problems, like image claasification. It dynamically adjusts the learning rate, which can lead to faster convergence compared to SGD.                      |\n",
    "| # of Convolutional layers   | 3           | Three convolutional layers are used to enable the model to learn hierarchical feature representations from the image data, capturing both low-level and high-level features.                      |\n",
    "| Fliters in Conv Layer1    | 32            | Starting with 32 filters allows the model to capture various spatial features form the input images ay the initial layer.                      |\n",
    "| Activation for Conv Layers| ReLU            | ReLU is preferred for its ability to introduce non-linearity without affecting the gradients much, which helps in avoiding the vanishing gradient problem during deep network training.                      |\n",
    "| Filters in Conv Layer2    | 64            | Increase the capacity of the model to capture more complex features as the depth increases, essential for handling the complexity of images in CIFAR-10.                     |\n",
    "| Filters in Conv Layer3| 128            | Further increases the depth and the ability to capture even more complex patterns, suitable for the detailed features in CIFAR-10 images                      |\n",
    "| Dense Layer Neurons  | 128            | A fully connected layers with 128 neurons to compile the features extracted by convolutional layers into predictions                      |\n",
    "| Output Layer Neurons    | 10            | Matches the number of class categories in the CIFAR-10 dataset, allowing the model to classify inpit images into one of the ten categories.                      |\n",
    "| Output Activation        | Softmax            | Softmax is appropriate for multi-class classification tasks like CIFAR-10 as it provides a probability distribution among the categorical classes.                      |\n",
    "| Learning Rate             | 0.001            | A moderate learning rate to ensure effective learning without causing the weights to converge too rapidly or inadequately.                      |\n",
    "| Loss Function                | Categorical Crossentropy            | Suitable for multi-class classification problems, where it calculates the difference between predicted probabilities and the actual distribution.                      |\n",
    "\n",
    "\n",
    "*FOR GRADER: _____ / 3 * <br>\n",
    "*CODE: ______ / 5 *<br>\n",
    "\n",
    "***TOTAL: ______ / 8***\n",
    "\n",
    "#### Question 5\n",
    "\n",
    "What is the final training and validation accuracy that you obtained after 100 epochs? Is there considerable improvement over Section 3.2? Are there still signs of underfitting or overfitting? Explain your answer (5 MARKS)\n",
    "\n",
    "***After 100 epochs, the model achieved a training accuracy of 97.52%, and a validation accuracy of 73.47%, showing significant improvement over Section 3.2. While these results demonstrate enhanced performance, specifically in validation accuracym there is a considerable gap between training and validation metrics, suggesting overfitting. The model performs exceptionally on training data but does not generalizas as effectively on unseen data, indicate that while it has learned the training data intricacies, it may not predict as accurately on new data.***\n",
    "\n",
    "*FOR GRADER: ______ / 5 *\n",
    "\n",
    "#### Question 6\n",
    "\n",
    "Write a short reflection on the practical difficulties of using a dense MLP to classsify images in the CIFAR-10 datasets. (3 MARKS)\n",
    "\n",
    "***Using a dense MLP for classifying CIFAR-10 images presents challenges primarily due to the high dimensionality of the input data, which necessitates a large number of parameters, increasing the risk of overfitting. Additionally, MLPs do not capture the spatial hierarchies and local patterns in images as effectively as convolutional layers, which are better suited for image data. Flattening image data to fit MLPs also results in a loss of spatial context and increases computational complexity. Consequently, while MLPs can classify images, they are less efficient and effective compared to convolutional neural networks (CNNs), which reduce parameter counts and computational load through weight sharing and pooling, making them more appropriate for complex image datasets like CIFAR-10.***\n",
    "\n",
    "*FOR GRADER: _______ /3*\n",
    "\n",
    "----\n",
    "\n",
    "## 4. Creating a CNN for the MNIST Data Set\n",
    "\n",
    "In this section we will now create a convolutional neural network (CNN) to classify images in the MNIST dataset that we used in the previous lab. Let's go through each part to see how to do this.\n",
    "\n",
    "### 4.1 Loading the MNIST Dataset\n",
    "\n",
    "As always we will load the MNIST dataset, scale the inputs to between 0 and 1, and convert the Y labels to one-hot vectors. However unlike before we will not flatten the 28x28 image to a 784 element vector, since CNNs can inherently handle 2D data.dle 2D data."
   ]
  },
  {
   "cell_type": "code",
   "execution_count": 3,
   "metadata": {},
   "outputs": [],
   "source": [
    "from tensorflow.keras.datasets import mnist\n",
    "from tensorflow.keras.utils import to_categorical\n",
    "\n",
    "def load_mnist():\n",
    "    (train_x, train_y),(test_x, test_y) = mnist.load_data()\n",
    "    train_x = train_x.reshape(train_x.shape[0], 28, 28, 1)\n",
    "    test_x = test_x.reshape(test_x.shape[0], 28, 28, 1)\n",
    "\n",
    "    train_x=train_x.astype('float32')\n",
    "    test_x = test_x.astype('float32')\n",
    "    \n",
    "    train_x /= 255.0\n",
    "    test_x /= 255.0\n",
    "        \n",
    "    train_y = to_categorical(train_y, 10)\n",
    "    test_y = to_categorical(test_y, 10)\n",
    "        \n",
    "    return (train_x, train_y), (test_x, test_y) "
   ]
  },
  {
   "cell_type": "markdown",
   "metadata": {},
   "source": [
    "### 4.2 Building the CNN\n",
    "\n",
    "We will now build the CNN. Unlike before we will create a function to produce the CNN. We will also look at how to save and load Keras models using \"checkpoints\", particularly \"ModelCheckpoint\" that saves the model each epoch.\n",
    "\n",
    "Let's begin by creating the model. We call os.path.exists to see if a model file exists, and call \"load_model\" if it does. Otherwise we create a new model.\n",
    "\n"
   ]
  },
  {
   "cell_type": "code",
   "execution_count": 4,
   "metadata": {},
   "outputs": [],
   "source": [
    "# load_model loads a model from a hd5 file.\n",
    "from keras.models import Sequential, load_model\n",
    "from keras.layers import Dense, Dropout, Flatten, Conv2D, MaxPooling2D\n",
    "import os\n",
    "\n",
    "MODEL_NAME = 'mnist-cnn.hd5'\n",
    "\n",
    "def buildmodel(model_name):\n",
    "    if os.path.exists(model_name):\n",
    "        model = load_model(model_name)                                                                                             \n",
    "    else:\n",
    "        model = Sequential()\n",
    "        model.add(Conv2D(32, kernel_size=(5,5),\n",
    "        activation='relu',\n",
    "        input_shape=(28, 28, 1), padding='same')) # Question 7\n",
    "\n",
    "        model.add(MaxPooling2D(pool_size=(2,2), strides=2)) # Question 8\n",
    "        model.add(Conv2D(64, kernel_size=(5,5), activation='relu'))\n",
    "        model.add(Conv2D(128, kernel_size=(5,5), activation='relu'))\n",
    "        model.add(Conv2D(64, kernel_size=(5,5), activation='relu'))\n",
    "        model.add(MaxPooling2D(pool_size=(2,2), strides=2))\n",
    "        model.add(Flatten()) # Question 9\n",
    "        model.add(Dense(1024, activation='relu'))\n",
    "        model.add(Dropout(0.1))\n",
    "        model.add(Dense(10, activation='softmax'))\n",
    "\n",
    "    return model\n",
    "\n"
   ]
  },
  {
   "cell_type": "markdown",
   "metadata": {},
   "source": [
    "----\n",
    "\n",
    "#### Question 7\n",
    "\n",
    "The first layer in our CNN is a 2D convolution kernel, shown here:\n",
    "\n",
    "```\n",
    "        model.add(Conv2D(32, kernel_size=(5,5),\n",
    "        activation='relu',\n",
    "        input_shape=(28, 28, 1), padding='same')) # Question 7\n",
    "```\n",
    "\n",
    "Why is the input_shape set to (28, 28, 1)? What does this mean? What does \"padding = 'same'\" mean? (4 MARKS)\n",
    "\n",
    "***The input shape parameter in the Conv2D layer is set to (28,28,1) to match the shape of the images in the MNIST dataset. The first two dimenstions (28,28) represent the height and width of the images, while the last  dimension (1) indicates that the images are in grayscale, meaning there is only one channel. The padding=\"same\" specifies that the convolution operation should add padding to the input image border to ensure that the output of the convolution has the same spatial dimensions as the input.***\n",
    "\n",
    "*FOR GRADER: ______ / 4*\n",
    "\n",
    "#### Question 8\n",
    "\n",
    "The second layer is the MaxPooling2D layer shown below:\n",
    "\n",
    "```\n",
    "        model.add(MaxPooling2D(pool_size=(2,2), strides=2)) # Question 8\n",
    "```\n",
    "\n",
    "What other types of pooling layers are available? What does 'strides = 2' mean? (3 MARKS)\n",
    "\n",
    "***Some other pooling layers available includes Average Pooling, Global Max Pooling, Global Average Pooling, the stride=2 parameter in the MaxPooling2D layer specifies that the pooling window will move 2 pixels across and 2 pixels down for each step it taks over the input.***\n",
    "\n",
    "*FOR GRADER: _____ / 3*\n",
    "\n",
    "\n",
    "#### Question 9\n",
    "\n",
    "What does the \"Flatten\" layer here do? Why is it needed?\n",
    "\n",
    "```\n",
    "        model.add(Flatten()) # Question 9\n",
    "```\n",
    "\n",
    "***The \"Flatten\" layer in a convolutional neural network transforms the multi-dimensional output of the preceding layers into one-dimensional array. This transformation is necessary because the subsequent dense layer require their input to be single vector of values.***\n",
    "\n",
    "*FOR GRADER: ____ / 2*\n",
    "\n",
    "\n",
    "\n",
    "\n",
    "----\n",
    "\n",
    "### 4.3 Training the CNN\n",
    "\n",
    "Let's now train the CNN. In this example we introduce the idea of a \"callback\", which is a routine that Keras calls at the end of each epoch. Specifically we look at two callbacks:\n",
    "\n",
    "    1. ModelCheckpoint: When called, Keras saves the model to the specified filename.\n",
    "    \n",
    "    2. EarlyStopping: When called, Keras checks if it should stop the training prematurely.\n",
    "    \n",
    "\n",
    "Let's look at the code to see how training is done, and how callbacks are used."
   ]
  },
  {
   "cell_type": "code",
   "execution_count": 5,
   "metadata": {},
   "outputs": [],
   "source": [
    "from tensorflow.keras.optimizers import SGD\n",
    "from tensorflow.keras.callbacks import EarlyStopping, ModelCheckpoint\n",
    "\n",
    "def train(model, train_x, train_y, epochs, test_x, test_y, model_name):\n",
    "\n",
    "    model.compile(optimizer=SGD(learning_rate=0.01, momentum=0.7), \n",
    "                  loss='categorical_crossentropy', metrics=['accuracy'])\n",
    "\n",
    "    savemodel = ModelCheckpoint(model_name)\n",
    "    stopmodel = EarlyStopping(min_delta=0.001, patience=10) # Question 10\n",
    "\n",
    "    print(\"Starting training.\")\n",
    "\n",
    "    model.fit(x=train_x, y=train_y, batch_size=32,\n",
    "    validation_data=(test_x, test_y), shuffle=True,\n",
    "    epochs=epochs, \n",
    "    callbacks=[savemodel, stopmodel])\n",
    "\n",
    "    print(\"Done. Now evaluating.\")\n",
    "    loss, acc = model.evaluate(x=test_x, y=test_y)\n",
    "    print(\"Test accuracy: %3.2f, loss: %3.2f\"%(acc, loss))"
   ]
  },
  {
   "cell_type": "markdown",
   "metadata": {},
   "source": [
    "Notice that there isn't very much that is unusual going on; we compile the model with our loss function and optimizer, then call fit, and finally evaluate to look at the final accuracy for the test set.  The only thing unusual is the \"callbacks\" parameter here in the fit function call\n",
    "\n",
    "```\n",
    "    model.fit(x=train_x, y=train_y, batch_size=32,\n",
    "    validation_data=(test_x, test_y), shuffle=True,\n",
    "    epochs=epochs, \n",
    "    callbacks=[savemodel, stopmodel])\n",
    "```\n",
    "\n",
    "----\n",
    "\n",
    "#### Question 10.\n",
    "\n",
    "What does do the min_delta and patience parameters do in the EarlyStopping callback, as shown below? (2 MARKS)\n",
    "\n",
    "```\n",
    "    stopmodel = EarlyStopping(min_delta=0.001, patience=10) # Question 10\n",
    "```\n",
    "\n",
    "---\n",
    "***min_delta: This parameter sets the minimim change in the monitored quantity to quanlify as an improvement. In this case, min_delta=0.001 means that the monitored quantity must decrease by at lease 0.001 from one epoch to the next for it to be considered an improvement.***\n",
    "***patience: This parameter specifies the number of epochs with no imporvement after which training will be stopped. Setting patience=10 means that if there is no improvement after 10 consecutive epochs, the training process will halt.***\n",
    "\n",
    "### 4.4 Putting it together.\n",
    "\n",
    "Now let's run the code and see how it goes (Note: To save time we are training for only 5 epochs; we should train much longer to get much better results):"
   ]
  },
  {
   "cell_type": "code",
   "execution_count": 6,
   "metadata": {},
   "outputs": [
    {
     "name": "stdout",
     "output_type": "stream",
     "text": [
      "Downloading data from https://storage.googleapis.com/tensorflow/tf-keras-datasets/mnist.npz\n",
      "11490434/11490434 [==============================] - 2s 0us/step\n",
      "Starting training.\n",
      "Epoch 1/5\n",
      "1873/1875 [============================>.] - ETA: 0s - loss: 0.3494 - accuracy: 0.8873"
     ]
    },
    {
     "name": "stderr",
     "output_type": "stream",
     "text": [
      "WARNING:absl:Found untraced functions such as _jit_compiled_convolution_op, _jit_compiled_convolution_op, _jit_compiled_convolution_op, _jit_compiled_convolution_op while saving (showing 4 of 4). These functions will not be directly callable after loading.\n"
     ]
    },
    {
     "name": "stdout",
     "output_type": "stream",
     "text": [
      "INFO:tensorflow:Assets written to: mnist-cnn.hd5\\assets\n"
     ]
    },
    {
     "name": "stderr",
     "output_type": "stream",
     "text": [
      "INFO:tensorflow:Assets written to: mnist-cnn.hd5\\assets\n"
     ]
    },
    {
     "name": "stdout",
     "output_type": "stream",
     "text": [
      "1875/1875 [==============================] - 45s 23ms/step - loss: 0.3491 - accuracy: 0.8874 - val_loss: 0.0697 - val_accuracy: 0.9780\n",
      "Epoch 2/5\n",
      "1874/1875 [============================>.] - ETA: 0s - loss: 0.0700 - accuracy: 0.9783"
     ]
    },
    {
     "name": "stderr",
     "output_type": "stream",
     "text": [
      "WARNING:absl:Found untraced functions such as _jit_compiled_convolution_op, _jit_compiled_convolution_op, _jit_compiled_convolution_op, _jit_compiled_convolution_op while saving (showing 4 of 4). These functions will not be directly callable after loading.\n"
     ]
    },
    {
     "name": "stdout",
     "output_type": "stream",
     "text": [
      "INFO:tensorflow:Assets written to: mnist-cnn.hd5\\assets\n"
     ]
    },
    {
     "name": "stderr",
     "output_type": "stream",
     "text": [
      "INFO:tensorflow:Assets written to: mnist-cnn.hd5\\assets\n"
     ]
    },
    {
     "name": "stdout",
     "output_type": "stream",
     "text": [
      "1875/1875 [==============================] - 48s 26ms/step - loss: 0.0700 - accuracy: 0.9783 - val_loss: 0.0436 - val_accuracy: 0.9868\n",
      "Epoch 3/5\n",
      "1874/1875 [============================>.] - ETA: 0s - loss: 0.0463 - accuracy: 0.9856"
     ]
    },
    {
     "name": "stderr",
     "output_type": "stream",
     "text": [
      "WARNING:absl:Found untraced functions such as _jit_compiled_convolution_op, _jit_compiled_convolution_op, _jit_compiled_convolution_op, _jit_compiled_convolution_op while saving (showing 4 of 4). These functions will not be directly callable after loading.\n"
     ]
    },
    {
     "name": "stdout",
     "output_type": "stream",
     "text": [
      "INFO:tensorflow:Assets written to: mnist-cnn.hd5\\assets\n"
     ]
    },
    {
     "name": "stderr",
     "output_type": "stream",
     "text": [
      "INFO:tensorflow:Assets written to: mnist-cnn.hd5\\assets\n"
     ]
    },
    {
     "name": "stdout",
     "output_type": "stream",
     "text": [
      "1875/1875 [==============================] - 47s 25ms/step - loss: 0.0463 - accuracy: 0.9856 - val_loss: 0.0422 - val_accuracy: 0.9865\n",
      "Epoch 4/5\n",
      "1875/1875 [==============================] - ETA: 0s - loss: 0.0349 - accuracy: 0.9887"
     ]
    },
    {
     "name": "stderr",
     "output_type": "stream",
     "text": [
      "WARNING:absl:Found untraced functions such as _jit_compiled_convolution_op, _jit_compiled_convolution_op, _jit_compiled_convolution_op, _jit_compiled_convolution_op while saving (showing 4 of 4). These functions will not be directly callable after loading.\n"
     ]
    },
    {
     "name": "stdout",
     "output_type": "stream",
     "text": [
      "INFO:tensorflow:Assets written to: mnist-cnn.hd5\\assets\n"
     ]
    },
    {
     "name": "stderr",
     "output_type": "stream",
     "text": [
      "INFO:tensorflow:Assets written to: mnist-cnn.hd5\\assets\n"
     ]
    },
    {
     "name": "stdout",
     "output_type": "stream",
     "text": [
      "1875/1875 [==============================] - 47s 25ms/step - loss: 0.0349 - accuracy: 0.9887 - val_loss: 0.0317 - val_accuracy: 0.9895\n",
      "Epoch 5/5\n",
      "1873/1875 [============================>.] - ETA: 0s - loss: 0.0272 - accuracy: 0.9914"
     ]
    },
    {
     "name": "stderr",
     "output_type": "stream",
     "text": [
      "WARNING:absl:Found untraced functions such as _jit_compiled_convolution_op, _jit_compiled_convolution_op, _jit_compiled_convolution_op, _jit_compiled_convolution_op while saving (showing 4 of 4). These functions will not be directly callable after loading.\n"
     ]
    },
    {
     "name": "stdout",
     "output_type": "stream",
     "text": [
      "INFO:tensorflow:Assets written to: mnist-cnn.hd5\\assets\n"
     ]
    },
    {
     "name": "stderr",
     "output_type": "stream",
     "text": [
      "INFO:tensorflow:Assets written to: mnist-cnn.hd5\\assets\n"
     ]
    },
    {
     "name": "stdout",
     "output_type": "stream",
     "text": [
      "1875/1875 [==============================] - 46s 24ms/step - loss: 0.0273 - accuracy: 0.9914 - val_loss: 0.0323 - val_accuracy: 0.9896\n",
      "Done. Now evaluating.\n",
      "313/313 [==============================] - 2s 7ms/step - loss: 0.0323 - accuracy: 0.9896\n",
      "Test accuracy: 0.99, loss: 0.03\n"
     ]
    }
   ],
   "source": [
    "    (train_x, train_y),(test_x, test_y) = load_mnist()\n",
    "    model = buildmodel(MODEL_NAME)\n",
    "    train(model, train_x, train_y, 5, test_x, test_y, MODEL_NAME)\n",
    "    "
   ]
  },
  {
   "cell_type": "markdown",
   "metadata": {},
   "source": [
    "----\n",
    "\n",
    "#### Question 11.\n",
    "\n",
    "Compare the relative advantages and disadvantages of CNN vs. the Dense MLP that you build in sections 3.2 and 3.3. What makes CNNs better (or worse)? (3 MARKS)\n",
    "\n",
    "***CNNs offer distinct advantages over Dense MLPs for image classification due to their ability to preserve spatial hierachies and utilize fewer parameters through shared weights, which enhances generalization. They capture local features efficiently via convolution operations, make them well-suited for tasks that involve visual patterns. However CNNs are computationally intensive, requiring robust hardware for training, and can still overfit if not regularized properly. In contrast, Desen MLPs, by flattening image data, lose critical spatial relationships, necessitating a higher parameter count to achieve comparable performance, which can increase risk of overfitting.***\n",
    "\n",
    "*FOR TA: ______ / 3*\n",
    "\n",
    "## 5. Making a CNN for the CIFAR-10 Dataset\n",
    "\n",
    "Now comes the fun part: Using the example above for creating a CNN for the MNIST dataset, now create a CNN in the box below for the MNIST-10 dataset. At the end of each epoch save the model to a file called \"cifar.hd5\" (note: the .hd5 is added automatically for you).\n",
    "\n",
    "---\n",
    "\n",
    "#### Question 12.\n",
    "\n",
    "Summarize your design in the table below (the actual coding cell comes after this):\n",
    "\n",
    "| Hyperparameter       | What I used | Why?                  |\n",
    "|:---------------------|:------------|:----------------------|\n",
    "| Optimizer            |  Adam           | Provides an adaptive learning rate that helps converge faster.                     |\n",
    "| Input shape          | (32,32,3)            | Matches the 32*32 RGB images in CIFAR-10.                      |\n",
    "| First layer          | Con2D(32, (3,3), activation=\"relu\")          | Helps to extract low-level features from the image.                      |\n",
    "| Second layer         | MaxPooling2D((2,2))           | Reduces spatial dimensions, which helps in reducing computation.                      |\n",
    "| Addtional layers      | Conv2D(64, (3,3), activation='relu') followed by MaxPooling2D((2,2)) and another Conv2D layer with 128 filters           | Increases the network's depth to capture more complex features.                      |\n",
    "| Dense layer           | Dense(512, activation='relu')            | High number of units to learn high-level features.                      |\n",
    "| Output layer          | \tDense(10, activation='softmax')            | Matches the 10 classes of CIFAR-10 for multi-class classification.                      |\n",
    "\n",
    "\n",
    "*FOR TA:*\n",
    "*Table: ________ / 3* <br>\n",
    "*Code: _________/ 7* <br>\n",
    "**TOTAL: _______ / 10** <br>\n",
    "\n",
    "---\n",
    "\n",
    "***TOTAL: _______ / 55***"
   ]
  },
  {
   "cell_type": "code",
   "execution_count": 7,
   "metadata": {},
   "outputs": [
    {
     "name": "stdout",
     "output_type": "stream",
     "text": [
      "Epoch 1/10\n",
      "1560/1563 [============================>.] - ETA: 0s - loss: 1.4137 - accuracy: 0.4868"
     ]
    },
    {
     "name": "stderr",
     "output_type": "stream",
     "text": [
      "WARNING:absl:Found untraced functions such as _jit_compiled_convolution_op, _jit_compiled_convolution_op, _jit_compiled_convolution_op while saving (showing 3 of 3). These functions will not be directly callable after loading.\n"
     ]
    },
    {
     "name": "stdout",
     "output_type": "stream",
     "text": [
      "INFO:tensorflow:Assets written to: cifar.hd5\\assets\n"
     ]
    },
    {
     "name": "stderr",
     "output_type": "stream",
     "text": [
      "INFO:tensorflow:Assets written to: cifar.hd5\\assets\n"
     ]
    },
    {
     "name": "stdout",
     "output_type": "stream",
     "text": [
      "1563/1563 [==============================] - 32s 20ms/step - loss: 1.4133 - accuracy: 0.4869 - val_loss: 1.1360 - val_accuracy: 0.5910\n",
      "Epoch 2/10\n",
      "1562/1563 [============================>.] - ETA: 0s - loss: 1.0314 - accuracy: 0.6333"
     ]
    },
    {
     "name": "stderr",
     "output_type": "stream",
     "text": [
      "WARNING:absl:Found untraced functions such as _jit_compiled_convolution_op, _jit_compiled_convolution_op, _jit_compiled_convolution_op while saving (showing 3 of 3). These functions will not be directly callable after loading.\n"
     ]
    },
    {
     "name": "stdout",
     "output_type": "stream",
     "text": [
      "INFO:tensorflow:Assets written to: cifar.hd5\\assets\n"
     ]
    },
    {
     "name": "stderr",
     "output_type": "stream",
     "text": [
      "INFO:tensorflow:Assets written to: cifar.hd5\\assets\n"
     ]
    },
    {
     "name": "stdout",
     "output_type": "stream",
     "text": [
      "1563/1563 [==============================] - 32s 21ms/step - loss: 1.0314 - accuracy: 0.6333 - val_loss: 0.9609 - val_accuracy: 0.6607\n",
      "Epoch 3/10\n",
      "1560/1563 [============================>.] - ETA: 0s - loss: 0.8572 - accuracy: 0.6973"
     ]
    },
    {
     "name": "stderr",
     "output_type": "stream",
     "text": [
      "WARNING:absl:Found untraced functions such as _jit_compiled_convolution_op, _jit_compiled_convolution_op, _jit_compiled_convolution_op while saving (showing 3 of 3). These functions will not be directly callable after loading.\n"
     ]
    },
    {
     "name": "stdout",
     "output_type": "stream",
     "text": [
      "INFO:tensorflow:Assets written to: cifar.hd5\\assets\n"
     ]
    },
    {
     "name": "stderr",
     "output_type": "stream",
     "text": [
      "INFO:tensorflow:Assets written to: cifar.hd5\\assets\n"
     ]
    },
    {
     "name": "stdout",
     "output_type": "stream",
     "text": [
      "1563/1563 [==============================] - 33s 21ms/step - loss: 0.8572 - accuracy: 0.6972 - val_loss: 0.9251 - val_accuracy: 0.6752\n",
      "Epoch 4/10\n",
      "1563/1563 [==============================] - ETA: 0s - loss: 0.7406 - accuracy: 0.7384"
     ]
    },
    {
     "name": "stderr",
     "output_type": "stream",
     "text": [
      "WARNING:absl:Found untraced functions such as _jit_compiled_convolution_op, _jit_compiled_convolution_op, _jit_compiled_convolution_op while saving (showing 3 of 3). These functions will not be directly callable after loading.\n"
     ]
    },
    {
     "name": "stdout",
     "output_type": "stream",
     "text": [
      "INFO:tensorflow:Assets written to: cifar.hd5\\assets\n"
     ]
    },
    {
     "name": "stderr",
     "output_type": "stream",
     "text": [
      "INFO:tensorflow:Assets written to: cifar.hd5\\assets\n"
     ]
    },
    {
     "name": "stdout",
     "output_type": "stream",
     "text": [
      "1563/1563 [==============================] - 33s 21ms/step - loss: 0.7406 - accuracy: 0.7384 - val_loss: 0.8780 - val_accuracy: 0.7020\n",
      "Epoch 5/10\n",
      "1562/1563 [============================>.] - ETA: 0s - loss: 0.6289 - accuracy: 0.7772"
     ]
    },
    {
     "name": "stderr",
     "output_type": "stream",
     "text": [
      "WARNING:absl:Found untraced functions such as _jit_compiled_convolution_op, _jit_compiled_convolution_op, _jit_compiled_convolution_op while saving (showing 3 of 3). These functions will not be directly callable after loading.\n"
     ]
    },
    {
     "name": "stdout",
     "output_type": "stream",
     "text": [
      "INFO:tensorflow:Assets written to: cifar.hd5\\assets\n"
     ]
    },
    {
     "name": "stderr",
     "output_type": "stream",
     "text": [
      "INFO:tensorflow:Assets written to: cifar.hd5\\assets\n"
     ]
    },
    {
     "name": "stdout",
     "output_type": "stream",
     "text": [
      "1563/1563 [==============================] - 33s 21ms/step - loss: 0.6289 - accuracy: 0.7772 - val_loss: 0.8400 - val_accuracy: 0.7243\n",
      "Epoch 6/10\n",
      "1561/1563 [============================>.] - ETA: 0s - loss: 0.5226 - accuracy: 0.8149"
     ]
    },
    {
     "name": "stderr",
     "output_type": "stream",
     "text": [
      "WARNING:absl:Found untraced functions such as _jit_compiled_convolution_op, _jit_compiled_convolution_op, _jit_compiled_convolution_op while saving (showing 3 of 3). These functions will not be directly callable after loading.\n"
     ]
    },
    {
     "name": "stdout",
     "output_type": "stream",
     "text": [
      "INFO:tensorflow:Assets written to: cifar.hd5\\assets\n"
     ]
    },
    {
     "name": "stderr",
     "output_type": "stream",
     "text": [
      "INFO:tensorflow:Assets written to: cifar.hd5\\assets\n"
     ]
    },
    {
     "name": "stdout",
     "output_type": "stream",
     "text": [
      "1563/1563 [==============================] - 33s 21ms/step - loss: 0.5227 - accuracy: 0.8149 - val_loss: 0.8386 - val_accuracy: 0.7208\n",
      "Epoch 7/10\n",
      "1563/1563 [==============================] - 32s 21ms/step - loss: 0.4301 - accuracy: 0.8473 - val_loss: 0.8942 - val_accuracy: 0.7268\n",
      "Epoch 8/10\n",
      "1563/1563 [==============================] - 31s 20ms/step - loss: 0.3405 - accuracy: 0.8799 - val_loss: 1.0209 - val_accuracy: 0.7084\n",
      "Epoch 9/10\n",
      "1563/1563 [==============================] - 32s 20ms/step - loss: 0.2655 - accuracy: 0.9061 - val_loss: 1.0879 - val_accuracy: 0.7166\n",
      "Epoch 10/10\n",
      "1563/1563 [==============================] - 31s 20ms/step - loss: 0.2119 - accuracy: 0.9243 - val_loss: 1.2498 - val_accuracy: 0.7041\n"
     ]
    },
    {
     "data": {
      "text/plain": [
       "<keras.callbacks.History at 0x1a2a9fa31c0>"
      ]
     },
     "execution_count": 7,
     "metadata": {},
     "output_type": "execute_result"
    }
   ],
   "source": [
    "\"\"\"\n",
    "Write your code for your CNN for the CIFAR-10 dataset here. \n",
    "\n",
    "Note: train_x, train_y, test_x, test_y were changed when we called \n",
    "load_mnist in the previous section. You will now need to call load_cifar10\n",
    "again.\n",
    "\n",
    "\"\"\"\n",
    "from tensorflow.keras.models import Sequential\n",
    "from tensorflow.keras.layers import Dense, Conv2D, MaxPooling2D, Flatten\n",
    "from tensorflow.keras.optimizers import Adam\n",
    "from tensorflow.keras.callbacks import ModelCheckpoint\n",
    "from keras.datasets import cifar10\n",
    "from keras.utils import to_categorical\n",
    "\n",
    "def load_cifar10():\n",
    "    (train_x, train_y), (test_x, test_y) = cifar10.load_data()\n",
    "    train_x = train_x.astype('float32') / 255\n",
    "    test_x = test_x.astype('float32') / 255\n",
    "    train_y = to_categorical(train_y, 10)\n",
    "    test_y = to_categorical(test_y, 10)\n",
    "    return train_x, train_y, test_x, test_y\n",
    "\n",
    "train_x, train_y, test_x, test_y = load_cifar10()\n",
    "\n",
    "model = Sequential([\n",
    "    Conv2D(32, (3, 3), activation='relu', input_shape=(32, 32, 3)),\n",
    "    MaxPooling2D((2, 2)),\n",
    "    Conv2D(64, (3, 3), activation='relu'),\n",
    "    MaxPooling2D((2, 2)),\n",
    "    Conv2D(128, (3, 3), activation='relu'),\n",
    "    Flatten(),\n",
    "    Dense(512, activation='relu'),\n",
    "    Dense(10, activation='softmax')\n",
    "])\n",
    "\n",
    "model.compile(optimizer=Adam(),\n",
    "              loss='categorical_crossentropy',\n",
    "              metrics=['accuracy'])\n",
    "\n",
    "checkpoint = ModelCheckpoint('cifar.hd5', save_best_only=True)\n",
    "model.fit(train_x, train_y, epochs=10, validation_data=(test_x, test_y), callbacks=[checkpoint])\n"
   ]
  },
  {
   "cell_type": "code",
   "execution_count": null,
   "metadata": {},
   "outputs": [],
   "source": []
  }
 ],
 "metadata": {
  "kernelspec": {
   "display_name": "Python 3 (ipykernel)",
   "language": "python",
   "name": "python3"
  },
  "language_info": {
   "codemirror_mode": {
    "name": "ipython",
    "version": 3
   },
   "file_extension": ".py",
   "mimetype": "text/x-python",
   "name": "python",
   "nbconvert_exporter": "python",
   "pygments_lexer": "ipython3",
   "version": "3.10.7"
  }
 },
 "nbformat": 4,
 "nbformat_minor": 4
}
